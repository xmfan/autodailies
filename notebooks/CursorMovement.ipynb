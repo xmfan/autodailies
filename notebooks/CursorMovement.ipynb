{
 "cells": [
  {
   "cell_type": "code",
   "execution_count": 45,
   "id": "5a57c6cc-99da-4905-b525-7cfc51823457",
   "metadata": {},
   "outputs": [],
   "source": [
    "import pyautogui\n",
    "from dataclasses import dataclass\n",
    "import time\n",
    "import random"
   ]
  },
  {
   "cell_type": "code",
   "execution_count": 14,
   "id": "303b3581-aaba-4823-ab07-d028b5ed6200",
   "metadata": {},
   "outputs": [],
   "source": [
    "@dataclass\n",
    "class Coordinate:\n",
    "    x: int\n",
    "    y: int\n",
    "\n",
    "pt1 = Coordinate(600, 450)\n",
    "pt2 = Coordinate(600, 700)"
   ]
  },
  {
   "cell_type": "code",
   "execution_count": 63,
   "id": "65c30394-76a9-4fa0-a3b1-152f3e1557c9",
   "metadata": {},
   "outputs": [],
   "source": [
    "styles = [\n",
    "    pyautogui.easeInQuad,     # start slow, end fast\n",
    "    pyautogui.easeOutQuad,    # start fast, end slow\n",
    "    pyautogui.easeInOutQuad,  # start and end fast, slow in middle\n",
    "    pyautogui.easeInBounce,   # bounce at the end\n",
    "    pyautogui.easeInElastic  # rubber band at the end\n",
    "]\n",
    "\n",
    "def drag(start: Coordinate, end: Coordinate, duration_ms: int):\n",
    "    pyautogui.moveTo(start.x, start.y)\n",
    "    pyautogui.dragTo(end.x, end.y, duration_ms/1000, random.choice(styles), button='left')\n",
    "\n",
    "def activate():\n",
    "    pyautogui.click(600, 450)"
   ]
  },
  {
   "cell_type": "code",
   "execution_count": 65,
   "id": "3b1822a1-eebb-479b-832b-544ef2aba5c6",
   "metadata": {},
   "outputs": [],
   "source": [
    "activate()\n",
    "drag(pt1, pt2, 500)"
   ]
  }
 ],
 "metadata": {
  "kernelspec": {
   "display_name": "venv",
   "language": "python",
   "name": "venv"
  },
  "language_info": {
   "codemirror_mode": {
    "name": "ipython",
    "version": 3
   },
   "file_extension": ".py",
   "mimetype": "text/x-python",
   "name": "python",
   "nbconvert_exporter": "python",
   "pygments_lexer": "ipython3",
   "version": "3.10.11"
  }
 },
 "nbformat": 4,
 "nbformat_minor": 5
}
