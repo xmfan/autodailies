{
 "cells": [
  {
   "cell_type": "code",
   "execution_count": 344,
   "id": "acd102ab-4c65-4ebb-91f7-6c36f609f08e",
   "metadata": {},
   "outputs": [],
   "source": [
    "import cv2 as cv\n",
    "from PIL import ImageGrab\n",
    "import numpy as np\n",
    "import matplotlib.pyplot as plt"
   ]
  },
  {
   "cell_type": "code",
   "execution_count": 378,
   "id": "2353ca5b-c8cf-4463-82f3-0c2699b1edcb",
   "metadata": {},
   "outputs": [],
   "source": [
    "# 512x512\n",
    "# ARROW_TOP_LEFT_X = 42\n",
    "# ARROW_TOP_LEFT_Y = 182\n",
    "# ARROW_BOTTOM_RIGHT_X = 52\n",
    "# ARROW_BOTTOM_RIGHT_Y = 192\n",
    "\n",
    "# 1280x720 (792)\n",
    "ARROW_TOP_LEFT_X = 105\n",
    "ARROW_TOP_LEFT_Y = 185\n",
    "ARROW_BOTTOM_RIGHT_X = 130\n",
    "ARROW_BOTTOM_RIGHT_Y = 210\n",
    "\n",
    "screen = ImageGrab.grab((ARROW_TOP_LEFT_X, ARROW_TOP_LEFT_Y, ARROW_BOTTOM_RIGHT_X, ARROW_BOTTOM_RIGHT_Y))"
   ]
  },
  {
   "cell_type": "code",
   "execution_count": 379,
   "id": "fba1b39d-0600-4693-8fb4-0f90887d5c97",
   "metadata": {},
   "outputs": [
    {
     "data": {
      "text/plain": [
       "<matplotlib.image.AxesImage at 0x288511750>"
      ]
     },
     "execution_count": 379,
     "metadata": {},
     "output_type": "execute_result"
    },
    {
     "data": {
      "image/png": "[encoded data removed]",
      "text/plain": [
       "<Figure size 640x480 with 1 Axes>"
      ]
     },
     "metadata": {},
     "output_type": "display_data"
    }
   ],
   "source": [
    "# Convert PIL image to OpenCV-compatible format (NumPy array)\n",
    "opencv_image = cv.cvtColor(np.array(screen), cv.COLOR_RGB2BGR)\n",
    "\n",
    "# Convert the OpenCV image to grayscale\n",
    "gray_image = cv.cvtColor(opencv_image, cv.COLOR_BGR2GRAY)\n",
    "\n",
    "arrow = cv.threshold(gray_image, 150, 255, 0)\n",
    "_, binary_image = arrow\n",
    "\n",
    "plt.imshow(binary_image)"
   ]
  },
  {
   "cell_type": "code",
   "execution_count": 380,
   "id": "86e1df9d-57ca-412d-8aa9-5f1205091e3a",
   "metadata": {},
   "outputs": [],
   "source": [
    "# Find contours in the binary image\n",
    "contours, _ = cv.findContours(binary_image, cv.RETR_EXTERNAL, cv.CHAIN_APPROX_SIMPLE)\n",
    "# Find the largest contour\n",
    "largest_contour = max(contours, key=cv.contourArea)\n",
    "# Create a mask for the largest contour\n",
    "mask = cv.drawContours(np.zeros_like(binary_image), [largest_contour], 0, (255), thickness=cv.FILLED)\n",
    "# Apply the mask to extract the largest object\n",
    "extracted_image = cv.bitwise_and(gray_image, gray_image, mask=mask)"
   ]
  },
  {
   "cell_type": "code",
   "execution_count": 381,
   "id": "2ba7281c-41aa-4743-85aa-0b5c630dbcfb",
   "metadata": {},
   "outputs": [
    {
     "data": {
      "text/plain": [
       "<matplotlib.image.AxesImage at 0x28855d9c0>"
      ]
     },
     "execution_count": 381,
     "metadata": {},
     "output_type": "execute_result"
    },
    {
     "data": {
      "image/png": "[encoded data removed]",
      "text/plain": [
       "<Figure size 640x480 with 1 Axes>"
      ]
     },
     "metadata": {},
     "output_type": "display_data"
    }
   ],
   "source": [
    "plt.imshow(extracted_image, cmap=\"gray\")"
   ]
  },
  {
   "cell_type": "code",
   "execution_count": 382,
   "id": "5a2a4b36-4f76-4968-b9dc-38912b9142e0",
   "metadata": {},
   "outputs": [
    {
     "name": "stdout",
     "output_type": "stream",
     "text": [
      "[array([21.137932,  7.551724], dtype=float32), array([ 3.6216216, 10.054054 ], dtype=float32), array([17., 21.], dtype=float32)]\n"
     ]
    }
   ],
   "source": [
    "triangle = cv.minEnclosingTriangle(largest_contour)\n",
    "\n",
    "# Get the vertices of the triangle\n",
    "pt1, pt2, pt3 = triangle[1]\n",
    "pt1 = pt1[0]\n",
    "pt2 = pt2[0]\n",
    "pt3 = pt3[0]\n",
    "print([pt1, pt2, pt3])"
   ]
  },
  {
   "cell_type": "code",
   "execution_count": 383,
   "id": "eaf725ef-f23d-4b77-a8b4-30656fb1a07b",
   "metadata": {},
   "outputs": [
    {
     "name": "stdout",
     "output_type": "stream",
     "text": [
      "[17.28568, 14.070488, 17.694145]\n",
      "vertex_point=[ 3.6216216 10.054054 ]\n",
      "base_point1=[21.137932  7.551724]\n",
      "base_point2=[17. 21.]\n",
      "base_point=[19.06896591 14.27586174]\n",
      "dx=-15.447344303131104\n",
      "dy=-4.221807479858398\n",
      "angle=164.71417604628417\n"
     ]
    },
    {
     "data": {
      "text/plain": [
       "<matplotlib.image.AxesImage at 0x2885ddc90>"
      ]
     },
     "execution_count": 383,
     "metadata": {},
     "output_type": "execute_result"
    },
    {
     "data": {
      "image/png": "[encoded data removed]",
      "text/plain": [
       "<Figure size 640x480 with 1 Axes>"
      ]
     },
     "metadata": {},
     "output_type": "display_data"
    }
   ],
   "source": [
    "side_lengths = [np.linalg.norm(pt2 - pt3), np.linalg.norm(pt1 - pt3), np.linalg.norm(pt1 - pt2)]\n",
    "print(side_lengths)\n",
    "acute_index = side_lengths.index(min(side_lengths))\n",
    "\n",
    "points = [pt1,pt2,pt3]\n",
    "vertex_point = points.pop(acute_index)\n",
    "base_point1, base_point2 = points\n",
    "print(f\"vertex_point={vertex_point}\")\n",
    "print(f\"base_point1={base_point1}\")\n",
    "print(f\"base_point2={base_point2}\")\n",
    "\n",
    "def compute_middle_point(point1, point2):\n",
    "    x = (point1[0] + point2[0]) / 2\n",
    "    y = (point1[1] + point2[1]) / 2\n",
    "    return np.array([x, y])\n",
    "\n",
    "base_point = compute_middle_point(base_point1, base_point2)\n",
    "print(f\"base_point={base_point}\")\n",
    "\n",
    "def compute_line_angle(point1, point2):\n",
    "    dx = point2[0] - point1[0]\n",
    "    dy = point2[1] - point1[1]\n",
    "    print(f\"dx={dx}\")\n",
    "    print(f\"dy={dy}\")\n",
    "    angle = np.arctan2(dy, dx) * 180 / math.pi\n",
    "    return angle\n",
    "    \n",
    "angle = compute_line_angle(base_point, vertex_point)\n",
    "# opencv flips y axis for some reason\n",
    "angle = angle * -1\n",
    "\n",
    "pt1 = pt1.astype(int)\n",
    "pt2 = pt2.astype(int)\n",
    "pt3 = pt3.astype(int)\n",
    "base_point = base_point.astype(int)\n",
    "vertex_point = vertex_point.astype(int)\n",
    "print(f\"angle={angle}\")\n",
    "\n",
    "# cv.circle(gray_image, pt1, 1, (0, 255, 0), -1)\n",
    "# cv.circle(gray_image, pt2, 1, (0, 255, 0), -1)\n",
    "# cv.circle(gray_image, pt3, 1, (0, 255, 0), -1)\n",
    "cv.arrowedLine(gray_image, base_point, vertex_point, (0, 255, 0), tipLength = 0.2)\n",
    "plt.imshow(gray_image)"
   ]
  },
  {
   "cell_type": "code",
   "execution_count": null,
   "id": "33d00cf0-dd0a-482a-b027-2076c42eecc3",
   "metadata": {},
   "outputs": [],
   "source": []
  },
  {
   "cell_type": "code",
   "execution_count": null,
   "id": "d3d3f7ed-d582-4ff1-9e17-aa98709d309e",
   "metadata": {},
   "outputs": [],
   "source": []
  },
  {
   "cell_type": "code",
   "execution_count": null,
   "id": "7014b280-eb26-43fa-877d-09fd2f4e4ee6",
   "metadata": {},
   "outputs": [],
   "source": []
  }
 ],
 "metadata": {
  "kernelspec": {
   "display_name": "venv",
   "language": "python",
   "name": "venv"
  },
  "language_info": {
   "codemirror_mode": {
    "name": "ipython",
    "version": 3
   },
   "file_extension": ".py",
   "mimetype": "text/x-python",
   "name": "python",
   "nbconvert_exporter": "python",
   "pygments_lexer": "ipython3",
   "version": "3.10.11"
  }
 },
 "nbformat": 4,
 "nbformat_minor": 5
}
