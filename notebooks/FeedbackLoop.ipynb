{
 "cells": [
  {
   "cell_type": "code",
   "execution_count": 4,
   "id": "a87eaa76-954d-49ec-be04-791b9e688e11",
   "metadata": {},
   "outputs": [],
   "source": [
    "import os\n",
    "import sys\n",
    "module_path = os.path.abspath(os.path.join('..'))\n",
    "if module_path not in sys.path:\n",
    "    sys.path.append(module_path)"
   ]
  },
  {
   "cell_type": "code",
   "execution_count": 7,
   "id": "293a5de1-a6a4-4349-92d6-36f13ef9e066",
   "metadata": {},
   "outputs": [],
   "source": [
    "from model.angle import compute_angle\n",
    "from PIL import Image, ImageTk, ImageDraw, ImageFont, ImageGrab"
   ]
  },
  {
   "cell_type": "code",
   "execution_count": 19,
   "id": "6133b01a-03c9-42ed-89dc-9c88c2e77756",
   "metadata": {},
   "outputs": [
    {
     "name": "stdout",
     "output_type": "stream",
     "text": [
      "1.2852661018407026\n"
     ]
    },
    {
     "data": {
      "image/png": "[encoded data removed]",
      "text/plain": [
       "<PIL.Image.Image image mode=RGBA size=25x25>"
      ]
     },
     "execution_count": 19,
     "metadata": {},
     "output_type": "execute_result"
    }
   ],
   "source": [
    "# 720p\n",
    "ARROW_TOP_LEFT_X = 105\n",
    "ARROW_TOP_LEFT_Y = 185\n",
    "ARROW_BOTTOM_RIGHT_X = 130\n",
    "ARROW_BOTTOM_RIGHT_Y = 210\n",
    "ARROW_BBOX = (ARROW_TOP_LEFT_X, ARROW_TOP_LEFT_Y, ARROW_BOTTOM_RIGHT_X, ARROW_BOTTOM_RIGHT_Y)\n",
    "screen = ImageGrab.grab(bbox=ARROW_BBOX)\n",
    "angle = compute_angle(screen)\n",
    "print(angle)\n",
    "screen"
   ]
  },
  {
   "cell_type": "code",
   "execution_count": 23,
   "id": "a2a81a90-435c-4912-8066-a82b2beaf5ac",
   "metadata": {},
   "outputs": [],
   "source": [
    "import pyautogui\n",
    "from dataclasses import dataclass\n",
    "import time\n",
    "import random\n",
    "\n",
    "@dataclass\n",
    "class Coordinate:\n",
    "    x: int\n",
    "    y: int\n",
    "\n",
    "    def __add__(self, other):\n",
    "        return Coordinate(self.x + other.x, self.y + other.y)\n",
    "\n",
    "    def __sub__(self, other):\n",
    "        return Coordinate(self.x - other.x, self.y - other.y)\n",
    "\n",
    "styles = [\n",
    "    pyautogui.easeInQuad,     # start slow, end fast\n",
    "    pyautogui.easeOutQuad,    # start fast, end slow\n",
    "    pyautogui.easeInOutQuad,  # start and end fast, slow in middle\n",
    "    pyautogui.easeInBounce,   # bounce at the end\n",
    "    pyautogui.easeInElastic  # rubber band at the end\n",
    "]\n",
    "\n",
    "def drag(start: Coordinate, end: Coordinate, duration_ms: int):\n",
    "    pyautogui.moveTo(start.x, start.y)\n",
    "    pyautogui.dragTo(end.x, end.y, duration_ms/1000, random.choice(styles), button='left')\n",
    "\n",
    "def drag_no_noise(start: Coordinate, end: Coordinate, duration_ms: int):\n",
    "    pyautogui.moveTo(start.x, start.y)\n",
    "    pyautogui.dragTo(end.x, end.y, duration_ms/1000, button='left')\n",
    "\n",
    "def activate():\n",
    "    pyautogui.click(600, 450)"
   ]
  },
  {
   "cell_type": "code",
   "execution_count": 68,
   "id": "1c1cee03-b942-4057-8fdf-f34d24fb9f24",
   "metadata": {},
   "outputs": [],
   "source": [
    "# small movements\n",
    "CENTER = Coordinate(642, 200)\n",
    "DELTA = Coordinate(30, 0)\n",
    "LEFT = CENTER - DELTA\n",
    "RIGHT = CENTER + DELTA\n",
    "\n",
    "# Maintain within 5 degrees\n",
    "def act(angle):\n",
    "    activate()\n",
    "    if angle < -5:\n",
    "        # need to look left\n",
    "        drag(CENTER, LEFT, 500)\n",
    "    elif angle > 5:\n",
    "        # need to look right\n",
    "        drag(CENTER, RIGHT, 500)\n"
   ]
  },
  {
   "cell_type": "code",
   "execution_count": 70,
   "id": "1582b44b-27b4-4e79-8744-d95db210e140",
   "metadata": {},
   "outputs": [],
   "source": [
    "import time\n",
    "import pyautogui\n",
    "\n",
    "start = time.time()\n",
    "end = start + 10\n",
    "\n",
    "while True:\n",
    "    if time.time() > end:\n",
    "        break\n",
    "        \n",
    "    screen = ImageGrab.grab(bbox=ARROW_BBOX)\n",
    "    angle = compute_angle(screen)\n",
    "    if angle:\n",
    "        act(angle)\n",
    "    \n",
    "    time.sleep(0.1)\n",
    "    "
   ]
  },
  {
   "cell_type": "code",
   "execution_count": null,
   "id": "98145a4a-3ed5-449b-abb2-c1c6eda3526a",
   "metadata": {},
   "outputs": [],
   "source": []
  }
 ],
 "metadata": {
  "kernelspec": {
   "display_name": "venv",
   "language": "python",
   "name": "venv"
  },
  "language_info": {
   "codemirror_mode": {
    "name": "ipython",
    "version": 3
   },
   "file_extension": ".py",
   "mimetype": "text/x-python",
   "name": "python",
   "nbconvert_exporter": "python",
   "pygments_lexer": "ipython3",
   "version": "3.10.11"
  }
 },
 "nbformat": 4,
 "nbformat_minor": 5
}
