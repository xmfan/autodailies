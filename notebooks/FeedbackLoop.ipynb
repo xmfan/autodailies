{
 "cells": [
  {
   "cell_type": "code",
   "execution_count": 71,
   "id": "a87eaa76-954d-49ec-be04-791b9e688e11",
   "metadata": {},
   "outputs": [],
   "source": [
    "import os\n",
    "import sys\n",
    "module_path = os.path.abspath(os.path.join('..'))\n",
    "if module_path not in sys.path:\n",
    "    sys.path.append(module_path)"
   ]
  },
  {
   "cell_type": "code",
   "execution_count": 7,
   "id": "293a5de1-a6a4-4349-92d6-36f13ef9e066",
   "metadata": {},
   "outputs": [],
   "source": [
    "from model.angle import compute_angle\n",
    "from PIL import Image, ImageTk, ImageDraw, ImageFont, ImageGrab"
   ]
  },
  {
   "cell_type": "code",
   "execution_count": 19,
   "id": "6133b01a-03c9-42ed-89dc-9c88c2e77756",
   "metadata": {},
   "outputs": [
    {
     "name": "stdout",
     "output_type": "stream",
     "text": [
      "1.2852661018407026\n"
     ]
    },
    {
     "data": {
      "image/png": "[encoded data removed]",
      "text/plain": [
       "<PIL.Image.Image image mode=RGBA size=25x25>"
      ]
     },
     "execution_count": 19,
     "metadata": {},
     "output_type": "execute_result"
    }
   ],
   "source": [
    "# 720p\n",
    "ARROW_TOP_LEFT_X = 105\n",
    "ARROW_TOP_LEFT_Y = 185\n",
    "ARROW_BOTTOM_RIGHT_X = 130\n",
    "ARROW_BOTTOM_RIGHT_Y = 210\n",
    "ARROW_BBOX = (ARROW_TOP_LEFT_X, ARROW_TOP_LEFT_Y, ARROW_BOTTOM_RIGHT_X, ARROW_BOTTOM_RIGHT_Y)\n",
    "screen = ImageGrab.grab(bbox=ARROW_BBOX)\n",
    "angle = compute_angle(screen)\n",
    "print(angle)\n",
    "screen"
   ]
  },
  {
   "cell_type": "code",
   "execution_count": 89,
   "id": "a2a81a90-435c-4912-8066-a82b2beaf5ac",
   "metadata": {},
   "outputs": [],
   "source": [
    "import pyautogui\n",
    "from dataclasses import dataclass\n",
    "import time\n",
    "import random\n",
    "\n",
    "@dataclass\n",
    "class Coordinate:\n",
    "    x: int\n",
    "    y: int\n",
    "\n",
    "    def __add__(self, other):\n",
    "        return Coordinate(self.x + other.x, self.y + other.y)\n",
    "\n",
    "    def __sub__(self, other):\n",
    "        return Coordinate(self.x - other.x, self.y - other.y)\n",
    "\n",
    "    def __mul__(self, scalar):\n",
    "        return Coordinate(self.x * scalar, self.y * scalar)\n",
    "\n",
    "styles = [\n",
    "    pyautogui.easeInQuad,     # start slow, end fast\n",
    "    pyautogui.easeOutQuad,    # start fast, end slow\n",
    "    pyautogui.easeInOutQuad,  # start and end fast, slow in middle\n",
    "    pyautogui.easeInBounce,   # bounce at the end\n",
    "    pyautogui.easeInElastic  # rubber band at the end\n",
    "]\n",
    "\n",
    "def drag(start: Coordinate, end: Coordinate, duration_ms: int):\n",
    "    pyautogui.moveTo(start.x, start.y)\n",
    "    pyautogui.dragTo(end.x, end.y, duration_ms/1000, random.choice(styles), button='left')\n",
    "\n",
    "def drag_no_noise(start: Coordinate, end: Coordinate, duration_ms: int):\n",
    "    pyautogui.moveTo(start.x, start.y)\n",
    "    pyautogui.dragTo(end.x, end.y, duration_ms/1000, button='left')\n",
    "\n",
    "def activate():\n",
    "    pyautogui.click(600, 450)"
   ]
  },
  {
   "cell_type": "code",
   "execution_count": 119,
   "id": "1c1cee03-b942-4057-8fdf-f34d24fb9f24",
   "metadata": {},
   "outputs": [],
   "source": [
    "# small movements\n",
    "CENTER = Coordinate(642, 200)\n",
    "DELTA = Coordinate(30, 0)\n",
    "LEFT = CENTER - DELTA\n",
    "RIGHT = CENTER + DELTA\n",
    "\n",
    "# big movements\n",
    "BIG_LEFT = CENTER - DELTA*3\n",
    "BIG_RIGHT = CENTER + DELTA*3\n",
    "\n",
    "IGNORE_THRESHOLD = 5\n",
    "BIG_THRESHOLD = 70\n",
    "\n",
    "# Maintain within 5 degrees\n",
    "def keep_angle(current, target):\n",
    "    activate()\n",
    "    current += 360\n",
    "    target += 360\n",
    "\n",
    "    gap = abs(target - current)\n",
    "    display(f\"gap={gap}\")\n",
    "    \n",
    "    if gap < IGNORE_THRESHOLD:\n",
    "        return\n",
    "\n",
    "    left = LEFT\n",
    "    right = RIGHT\n",
    "    if gap > BIG_THRESHOLD:\n",
    "        left = BIG_LEFT\n",
    "        right = BIG_RIGHT\n",
    "        \n",
    "    if target > current:\n",
    "        # need to look left\n",
    "        drag(CENTER, left, 300)\n",
    "    else:\n",
    "        # need to look right\n",
    "        drag(CENTER, right, 300)\n"
   ]
  },
  {
   "cell_type": "code",
   "execution_count": 122,
   "id": "1582b44b-27b4-4e79-8744-d95db210e140",
   "metadata": {},
   "outputs": [
    {
     "data": {
      "image/png": "[encoded data removed]",
      "text/plain": [
       "<PIL.Image.Image image mode=RGBA size=25x25>"
      ]
     },
     "metadata": {},
     "output_type": "display_data"
    },
    {
     "data": {
      "text/plain": [
       "'angle=105.44514950718599'"
      ]
     },
     "metadata": {},
     "output_type": "display_data"
    },
    {
     "data": {
      "text/plain": [
       "'gap=105.44514950718599'"
      ]
     },
     "metadata": {},
     "output_type": "display_data"
    },
    {
     "data": {
      "image/png": "[encoded data removed]",
      "text/plain": [
       "<PIL.Image.Image image mode=RGBA size=25x25>"
      ]
     },
     "metadata": {},
     "output_type": "display_data"
    },
    {
     "data": {
      "text/plain": [
       "'angle=91.52979366365315'"
      ]
     },
     "metadata": {},
     "output_type": "display_data"
    },
    {
     "data": {
      "text/plain": [
       "'gap=91.52979366365315'"
      ]
     },
     "metadata": {},
     "output_type": "display_data"
    },
    {
     "data": {
      "image/png": "[encoded data removed]",
      "text/plain": [
       "<PIL.Image.Image image mode=RGBA size=25x25>"
      ]
     },
     "metadata": {},
     "output_type": "display_data"
    },
    {
     "data": {
      "text/plain": [
       "'angle=51.87793081873364'"
      ]
     },
     "metadata": {},
     "output_type": "display_data"
    },
    {
     "data": {
      "text/plain": [
       "'gap=51.87793081873366'"
      ]
     },
     "metadata": {},
     "output_type": "display_data"
    },
    {
     "data": {
      "image/png": "[encoded data removed]",
      "text/plain": [
       "<PIL.Image.Image image mode=RGBA size=25x25>"
      ]
     },
     "metadata": {},
     "output_type": "display_data"
    },
    {
     "data": {
      "text/plain": [
       "'angle=37.40970473125363'"
      ]
     },
     "metadata": {},
     "output_type": "display_data"
    },
    {
     "data": {
      "text/plain": [
       "'gap=37.40970473125361'"
      ]
     },
     "metadata": {},
     "output_type": "display_data"
    },
    {
     "data": {
      "image/png": "[encoded data removed]",
      "text/plain": [
       "<PIL.Image.Image image mode=RGBA size=25x25>"
      ]
     },
     "metadata": {},
     "output_type": "display_data"
    },
    {
     "data": {
      "text/plain": [
       "'angle=29.427462214288145'"
      ]
     },
     "metadata": {},
     "output_type": "display_data"
    },
    {
     "data": {
      "text/plain": [
       "'gap=29.42746221428814'"
      ]
     },
     "metadata": {},
     "output_type": "display_data"
    },
    {
     "data": {
      "image/png": "[encoded data removed]",
      "text/plain": [
       "<PIL.Image.Image image mode=RGBA size=25x25>"
      ]
     },
     "metadata": {},
     "output_type": "display_data"
    },
    {
     "data": {
      "text/plain": [
       "'angle=20.14476448892383'"
      ]
     },
     "metadata": {},
     "output_type": "display_data"
    },
    {
     "data": {
      "text/plain": [
       "'gap=20.14476448892384'"
      ]
     },
     "metadata": {},
     "output_type": "display_data"
    },
    {
     "data": {
      "image/png": "[encoded data removed]",
      "text/plain": [
       "<PIL.Image.Image image mode=RGBA size=25x25>"
      ]
     },
     "metadata": {},
     "output_type": "display_data"
    },
    {
     "data": {
      "text/plain": [
       "'angle=11.155064648028914'"
      ]
     },
     "metadata": {},
     "output_type": "display_data"
    },
    {
     "data": {
      "text/plain": [
       "'gap=11.15506464802894'"
      ]
     },
     "metadata": {},
     "output_type": "display_data"
    },
    {
     "data": {
      "image/png": "[encoded data removed]",
      "text/plain": [
       "<PIL.Image.Image image mode=RGBA size=25x25>"
      ]
     },
     "metadata": {},
     "output_type": "display_data"
    },
    {
     "data": {
      "text/plain": [
       "'angle=1.5297937083395445'"
      ]
     },
     "metadata": {},
     "output_type": "display_data"
    },
    {
     "data": {
      "text/plain": [
       "'gap=1.5297937083395254'"
      ]
     },
     "metadata": {},
     "output_type": "display_data"
    },
    {
     "data": {
      "image/png": "[encoded data removed]",
      "text/plain": [
       "<PIL.Image.Image image mode=RGBA size=25x25>"
      ]
     },
     "metadata": {},
     "output_type": "display_data"
    },
    {
     "data": {
      "text/plain": [
       "'angle=-1.5297882396720046'"
      ]
     },
     "metadata": {},
     "output_type": "display_data"
    },
    {
     "data": {
      "text/plain": [
       "'gap=1.5297882396720297'"
      ]
     },
     "metadata": {},
     "output_type": "display_data"
    },
    {
     "data": {
      "image/png": "[encoded data removed]",
      "text/plain": [
       "<PIL.Image.Image image mode=RGBA size=25x25>"
      ]
     },
     "metadata": {},
     "output_type": "display_data"
    },
    {
     "data": {
      "text/plain": [
       "'angle=163.43918400786865'"
      ]
     },
     "metadata": {},
     "output_type": "display_data"
    },
    {
     "data": {
      "text/plain": [
       "'gap=163.43918400786868'"
      ]
     },
     "metadata": {},
     "output_type": "display_data"
    },
    {
     "data": {
      "image/png": "[encoded data removed]",
      "text/plain": [
       "<PIL.Image.Image image mode=RGBA size=25x25>"
      ]
     },
     "metadata": {},
     "output_type": "display_data"
    },
    {
     "data": {
      "text/plain": [
       "'angle=-16.451976086008717'"
      ]
     },
     "metadata": {},
     "output_type": "display_data"
    },
    {
     "data": {
      "text/plain": [
       "'gap=16.4519760860087'"
      ]
     },
     "metadata": {},
     "output_type": "display_data"
    },
    {
     "data": {
      "image/png": "[encoded data removed]",
      "text/plain": [
       "<PIL.Image.Image image mode=RGBA size=25x25>"
      ]
     },
     "metadata": {},
     "output_type": "display_data"
    },
    {
     "data": {
      "text/plain": [
       "'angle=-33.26103204802784'"
      ]
     },
     "metadata": {},
     "output_type": "display_data"
    },
    {
     "data": {
      "text/plain": [
       "'gap=33.26103204802786'"
      ]
     },
     "metadata": {},
     "output_type": "display_data"
    },
    {
     "data": {
      "image/png": "[encoded data removed]",
      "text/plain": [
       "<PIL.Image.Image image mode=RGBA size=25x25>"
      ]
     },
     "metadata": {},
     "output_type": "display_data"
    },
    {
     "data": {
      "text/plain": [
       "'angle=-49.39870341012815'"
      ]
     },
     "metadata": {},
     "output_type": "display_data"
    },
    {
     "data": {
      "text/plain": [
       "'gap=49.39870341012818'"
      ]
     },
     "metadata": {},
     "output_type": "display_data"
    }
   ],
   "source": [
    "import time\n",
    "import pyautogui\n",
    "from matplotlib import pyplot as plt\n",
    "\n",
    "from IPython.display import display, clear_output\n",
    "\n",
    "start = time.time()\n",
    "end = start + 10\n",
    "\n",
    "target_angle = 0\n",
    "\n",
    "while True:\n",
    "    if time.time() > end:\n",
    "        break\n",
    "        \n",
    "    screen = ImageGrab.grab(bbox=ARROW_BBOX)\n",
    "    display(screen)\n",
    "    angle = compute_angle(screen)\n",
    "    display(f\"angle={angle}\")\n",
    "    # clear_output(wait=True)\n",
    "    if angle:\n",
    "        keep_angle(angle, target_angle)\n",
    "    "
   ]
  },
  {
   "cell_type": "code",
   "execution_count": null,
   "id": "09c9c6b1-5d6a-4c84-9cce-9b3fd6d67324",
   "metadata": {},
   "outputs": [],
   "source": []
  }
 ],
 "metadata": {
  "kernelspec": {
   "display_name": "venv",
   "language": "python",
   "name": "venv"
  },
  "language_info": {
   "codemirror_mode": {
    "name": "ipython",
    "version": 3
   },
   "file_extension": ".py",
   "mimetype": "text/x-python",
   "name": "python",
   "nbconvert_exporter": "python",
   "pygments_lexer": "ipython3",
   "version": "3.10.11"
  }
 },
 "nbformat": 4,
 "nbformat_minor": 5
}
