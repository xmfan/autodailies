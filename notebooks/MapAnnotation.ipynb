{
 "cells": [
  {
   "cell_type": "code",
   "execution_count": 31,
   "id": "a67c9396-cae6-48e0-af36-f45d4c158eec",
   "metadata": {},
   "outputs": [],
   "source": [
    "import cv2 as cv\n",
    "from PIL import ImageGrab\n",
    "from dataclasses import dataclass\n",
    "import numpy as np\n",
    "from matplotlib import pyplot as plt\n",
    "import math\n",
    "import pyautogui\n",
    "from pynput import keyboard"
   ]
  },
  {
   "cell_type": "code",
   "execution_count": 2,
   "id": "243aba1b-e474-4d18-ac8b-2c67bcecf77d",
   "metadata": {},
   "outputs": [],
   "source": [
    "@dataclass\n",
    "class Coordinate:\n",
    "    x: int\n",
    "    y: int\n",
    "\n",
    "    def __add__(self, other):\n",
    "        return Coordinate(self.x + other.x, self.y + other.y)\n",
    "\n",
    "    def __sub__(self, other):\n",
    "        return Coordinate(self.x - other.x, self.y - other.y)"
   ]
  },
  {
   "cell_type": "code",
   "execution_count": 24,
   "id": "29696210-9098-4dce-a40a-b714fc006b03",
   "metadata": {},
   "outputs": [],
   "source": [
    "def compute_line_angle(p1: Coordinate, p2: Coordinate):\n",
    "    dx = p2.x - p1.x\n",
    "    dy = p2.y - p1.y\n",
    "    print(f\"dx={dx}\")\n",
    "    print(f\"dy={dy}\")\n",
    "    angle = np.arctan2(dy, dx) * 180 / math.pi\n",
    "    return angle"
   ]
  },
  {
   "cell_type": "code",
   "execution_count": 26,
   "id": "2d029e87-95fd-470e-8b70-f8e9411d9c43",
   "metadata": {},
   "outputs": [],
   "source": [
    "# navigate to map\n",
    "map = ImageGrab.grab((100,210,860,700))"
   ]
  },
  {
   "cell_type": "code",
   "execution_count": 49,
   "id": "e2a06b79-6420-4597-8c74-148845f099ed",
   "metadata": {},
   "outputs": [],
   "source": [
    "positions = []\n",
    "\n",
    "# Callback function to handle key press events\n",
    "def on_press(key):\n",
    "    print(key)\n",
    "    global positions\n",
    "    \n",
    "    # Stop the listener if the Escape key is pressed\n",
    "    if key == keyboard.Key.esc:\n",
    "        return False\n",
    "\n",
    "    x, y = pyautogui.position()\n",
    "    positions.append(Coordinate(x,y))\n",
    "\n",
    "# Callback function to handle key release events\n",
    "def on_release(key):\n",
    "    return\n",
    "    "
   ]
  },
  {
   "cell_type": "code",
   "execution_count": 50,
   "id": "a762584a-4ce5-49ca-adcc-435d29a0ea52",
   "metadata": {},
   "outputs": [
    {
     "name": "stdout",
     "output_type": "stream",
     "text": [
      "'c'\n",
      "'c'\n",
      "Key.esc\n",
      "[Coordinate(x=548, y=334), Coordinate(x=549, y=404)]\n"
     ]
    }
   ],
   "source": [
    "positions = []\n",
    "\n",
    "listener = keyboard.Listener(on_press=on_press, on_release=on_release)\n",
    "listener.start()\n",
    "\n",
    "# Keep the program running until the listener is stopped\n",
    "listener.join()\n",
    "\n",
    "print(positions)"
   ]
  },
  {
   "cell_type": "code",
   "execution_count": 57,
   "id": "c72d42d8-9a51-41c2-b10b-11ef9fb0cbca",
   "metadata": {},
   "outputs": [
    {
     "name": "stdout",
     "output_type": "stream",
     "text": [
      "dx=1\n",
      "dy=70\n",
      "angle=89.1815445383114, dist=70.00714249274856\n"
     ]
    }
   ],
   "source": [
    "pt1, pt2 = positions\n",
    "angle = compute_line_angle(pt1, pt2)\n",
    "dist = math.sqrt((pt2.x - pt1.x)**2 + (pt2.y - pt1.y)**2)\n",
    "print(f\"angle={angle}, dist={dist}\")"
   ]
  }
 ],
 "metadata": {
  "kernelspec": {
   "display_name": "venv",
   "language": "python",
   "name": "venv"
  },
  "language_info": {
   "codemirror_mode": {
    "name": "ipython",
    "version": 3
   },
   "file_extension": ".py",
   "mimetype": "text/x-python",
   "name": "python",
   "nbconvert_exporter": "python",
   "pygments_lexer": "ipython3",
   "version": "3.10.11"
  }
 },
 "nbformat": 4,
 "nbformat_minor": 5
}
