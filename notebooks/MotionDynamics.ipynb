{
 "cells": [
  {
   "cell_type": "code",
   "execution_count": 1,
   "id": "846a9a66-1421-405c-9b37-55349a8470fa",
   "metadata": {},
   "outputs": [],
   "source": [
    "import cv2 as cv\n",
    "from PIL import ImageGrab\n",
    "from dataclasses import dataclass\n",
    "import numpy as np\n",
    "from matplotlib import pyplot as plt\n",
    "import math\n",
    "import pyautogui\n",
    "from pynput import keyboard, mouse\n",
    "import time"
   ]
  },
  {
   "cell_type": "code",
   "execution_count": 2,
   "id": "491d9789-d1f5-4f6f-9718-7bae398661e4",
   "metadata": {},
   "outputs": [],
   "source": [
    "@dataclass\n",
    "class Coordinate:\n",
    "    x: int\n",
    "    y: int\n",
    "\n",
    "    def __add__(self, other):\n",
    "        return Coordinate(self.x + other.x, self.y + other.y)\n",
    "\n",
    "    def __sub__(self, other):\n",
    "        return Coordinate(self.x - other.x, self.y - other.y)\n",
    "\n",
    "    def asTuple(self):\n",
    "        return (self.x, self.y)"
   ]
  },
  {
   "cell_type": "code",
   "execution_count": 3,
   "id": "318987be-ef59-4233-a6d4-8e53eeca7143",
   "metadata": {},
   "outputs": [],
   "source": [
    "def anotate():\n",
    "    mouse_listener = None\n",
    "    keyboard_listener = None\n",
    "    \n",
    "    active_dist = None\n",
    "    dists_by_time = []\n",
    "    \n",
    "    click_start = None\n",
    "    def on_click(x, y, button, pressed):\n",
    "        nonlocal click_start\n",
    "        nonlocal active_dist\n",
    "        nonlocal dists_by_time\n",
    "    \n",
    "        if active_dist is None:\n",
    "            return\n",
    "        \n",
    "        if button == mouse.Button.left:\n",
    "            if pressed:\n",
    "                click_start = time.time()\n",
    "            else:\n",
    "                click_end = time.time()\n",
    "                duration = click_end - click_start\n",
    "    \n",
    "                dists_by_time.append((duration, active_dist))\n",
    "                active_dist = None\n",
    "    \n",
    "    start = None\n",
    "    end = None\n",
    "    def on_press(key):\n",
    "        nonlocal mouse_listener\n",
    "        nonlocal keyboard_listener\n",
    "        \n",
    "        nonlocal start\n",
    "        nonlocal end\n",
    "    \n",
    "        nonlocal active_dist\n",
    "    \n",
    "        def kill():\n",
    "            mouse_listener.stop()\n",
    "            keyboard_listener.stop()\n",
    "    \n",
    "        try:\n",
    "            if key.char == \"f\":\n",
    "                x, y = pyautogui.position()\n",
    "    \n",
    "                if start is None:\n",
    "                    start = Coordinate(x,y)\n",
    "                elif end is None:\n",
    "                    end = Coordinate(x,y)\n",
    "                    if active_dist is not None:\n",
    "                        kill()\n",
    "                        \n",
    "                    active_dist = math.sqrt((end.x - start.x)**2 + (end.y - start.y)**2)\n",
    "                else:\n",
    "                    start_coord = Coordinate(x,y)\n",
    "                    end_coord = None\n",
    "    \n",
    "                if start is not None and end is not None:\n",
    "                    print(f\"Ready, start={start.asTuple()}, end={end.asTuple()}\")\n",
    "                    \n",
    "        except AttributeError:\n",
    "            if key == keyboard.Key.esc:\n",
    "                kill()\n",
    "    \n",
    "    mouse_listener = mouse.Listener(on_click=on_click)\n",
    "    keyboard_listener = keyboard.Listener(on_press=on_press)\n",
    "    \n",
    "    mouse_listener.start()\n",
    "    keyboard_listener.start()\n",
    "    \n",
    "    mouse_listener.join()\n",
    "    keyboard_listener.join()\n",
    "\n",
    "    print(dists_by_time)\n",
    "    return dists_by_time"
   ]
  },
  {
   "cell_type": "code",
   "execution_count": 27,
   "id": "425f84e7-74e4-4915-80a9-da38bd2578a6",
   "metadata": {},
   "outputs": [
    {
     "name": "stdout",
     "output_type": "stream",
     "text": [
      "Ready, start=(480, 442), end=(831, 446)\n",
      "{23.50317692756653: 351.02279128284533}\n"
     ]
    },
    {
     "data": {
      "text/plain": [
       "{23.50317692756653: 351.02279128284533}"
      ]
     },
     "execution_count": 27,
     "metadata": {},
     "output_type": "execute_result"
    }
   ],
   "source": [
    "anotate()"
   ]
  },
  {
   "cell_type": "code",
   "execution_count": 28,
   "id": "44974586-0a6b-4784-b2f1-c6f6104303de",
   "metadata": {},
   "outputs": [
    {
     "name": "stdout",
     "output_type": "stream",
     "text": [
      "Ready, start=(689, 452), end=(339, 449)\n",
      "{23.510619163513184: 350.0128569067142}\n"
     ]
    },
    {
     "data": {
      "text/plain": [
       "{23.510619163513184: 350.0128569067142}"
      ]
     },
     "execution_count": 28,
     "metadata": {},
     "output_type": "execute_result"
    }
   ],
   "source": [
    "anotate()"
   ]
  },
  {
   "cell_type": "code",
   "execution_count": 5,
   "id": "2ea9e7e2-a1f2-4f2a-91d9-62f619622688",
   "metadata": {},
   "outputs": [],
   "source": [
    "data = [\n",
    "    (23.50317692756653, 351.02279128284533),\n",
    "    (23.510619163513184, 350.0128569067142)]"
   ]
  },
  {
   "cell_type": "code",
   "execution_count": 8,
   "id": "e64e51d9-8bf1-401a-983b-0047c22955ce",
   "metadata": {},
   "outputs": [
    {
     "name": "stdout",
     "output_type": "stream",
     "text": [
      "pps: 14.935120999371616\n",
      "pps: 14.887436799193676\n"
     ]
    }
   ],
   "source": [
    "for duration, dist in data:\n",
    "    print(f\"pps: {dist/duration}\")"
   ]
  }
 ],
 "metadata": {
  "kernelspec": {
   "display_name": "venv",
   "language": "python",
   "name": "venv"
  },
  "language_info": {
   "codemirror_mode": {
    "name": "ipython",
    "version": 3
   },
   "file_extension": ".py",
   "mimetype": "text/x-python",
   "name": "python",
   "nbconvert_exporter": "python",
   "pygments_lexer": "ipython3",
   "version": "3.10.11"
  }
 },
 "nbformat": 4,
 "nbformat_minor": 5
}
